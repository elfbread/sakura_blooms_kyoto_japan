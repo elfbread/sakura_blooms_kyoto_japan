{
 "cells": [
  {
   "cell_type": "code",
   "execution_count": 1,
   "metadata": {},
   "outputs": [],
   "source": [
    "import pandas as pd\n",
    "import numpy as np"
   ]
  },
  {
   "cell_type": "code",
   "execution_count": 7,
   "metadata": {},
   "outputs": [],
   "source": [
    "# import data sets\n",
    "\n",
    "blooms_raw = pd.read_csv('https://docs.google.com/spreadsheets/d/e/2PACX-1vQms0ohdtDlTJoP9tJsurwp1axTMJJxHO2--j0qF2m9moLasFUUbwkQr2XApGqGcA/pub?output=csv')\n",
    "temps_raw = pd.read_csv('https://docs.google.com/spreadsheets/d/e/2PACX-1vTe2xv8DuQALVpmmzeXraIFFXd4rv4jSefxsAy2OvapY2Zv91RazrZfISSczhyyHA/pub?output=csv')"
   ]
  },
  {
   "cell_type": "code",
   "execution_count": 8,
   "metadata": {},
   "outputs": [
    {
     "name": "stdout",
     "output_type": "stream",
     "text": [
      "Index(['Year', 'Doy', 'Calendar_date'], dtype='object')\n",
      "Index(['Year', '3_yr_temp_avg', '16_yr_temp_avg', '22_yr_temp_avg', 'obs_temp',\n",
      "       'urban_effect', 'upper_ci', 'lower_ci'],\n",
      "      dtype='object')\n"
     ]
    }
   ],
   "source": [
    "# finding common column name for merge\n",
    "\n",
    "print(blooms_raw.columns)\n",
    "print(temps_raw.columns)"
   ]
  },
  {
   "cell_type": "code",
   "execution_count": 10,
   "metadata": {},
   "outputs": [],
   "source": [
    "# merge datasets on year\n",
    "\n",
    "df = blooms_raw.merge(temps_raw,\n",
    "                            how='left',\n",
    "                            left_on='Year',\n",
    "                            right_on='Year')"
   ]
  },
  {
   "cell_type": "code",
   "execution_count": 14,
   "metadata": {},
   "outputs": [
    {
     "data": {
      "text/plain": [
       "(1217, 10)"
      ]
     },
     "execution_count": 14,
     "metadata": {},
     "output_type": "execute_result"
    }
   ],
   "source": [
    "# preliminary count of rows and columns\n",
    "\n",
    "df.shape"
   ]
  },
  {
   "cell_type": "code",
   "execution_count": 12,
   "metadata": {},
   "outputs": [
    {
     "name": "stdout",
     "output_type": "stream",
     "text": [
      "Count of missing values: 4575\n"
     ]
    }
   ],
   "source": [
    "# check for missing  values\n",
    "\n",
    "count_df = df.isna().sum().sum()\n",
    "print('Count of missing values: ' + str(count_df))"
   ]
  },
  {
   "cell_type": "code",
   "execution_count": 17,
   "metadata": {},
   "outputs": [
    {
     "name": "stdout",
     "output_type": "stream",
     "text": [
      "Count of missing values: 1876\n"
     ]
    }
   ],
   "source": [
    "# drop rows with missing values in calendar_date and doy\n",
    "# confirm some rows were dropped\n",
    "\n",
    "df = df.dropna(subset=['Doy', 'Calendar_date'])\n",
    "df.shape\n",
    "count_dfs = df.isna().sum().sum()\n",
    "print('Count of missing values: ' + str(count_dfs))"
   ]
  }
 ],
 "metadata": {
  "kernelspec": {
   "display_name": "Python 3.10.1 64-bit",
   "language": "python",
   "name": "python3"
  },
  "language_info": {
   "codemirror_mode": {
    "name": "ipython",
    "version": 3
   },
   "file_extension": ".py",
   "mimetype": "text/x-python",
   "name": "python",
   "nbconvert_exporter": "python",
   "pygments_lexer": "ipython3",
   "version": "3.10.1"
  },
  "orig_nbformat": 4,
  "vscode": {
   "interpreter": {
    "hash": "bac4e17d0ad652fe572f7303b15392f2c4cb3e88fc6e44da7a2e494303c18aa2"
   }
  }
 },
 "nbformat": 4,
 "nbformat_minor": 2
}
