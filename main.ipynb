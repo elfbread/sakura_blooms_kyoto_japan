{
 "cells": [
  {
   "cell_type": "code",
   "execution_count": 4,
   "metadata": {},
   "outputs": [],
   "source": [
    "import pandas as pd\n",
    "import numpy as np"
   ]
  },
  {
   "cell_type": "code",
   "execution_count": 5,
   "metadata": {},
   "outputs": [],
   "source": [
    "# import data sets\n",
    "\n",
    "blooms_raw = pd.read_csv('https://docs.google.com/spreadsheets/d/e/2PACX-1vQms0ohdtDlTJoP9tJsurwp1axTMJJxHO2--j0qF2m9moLasFUUbwkQr2XApGqGcA/pub?output=csv')\n",
    "temps_raw = pd.read_csv('https://docs.google.com/spreadsheets/d/e/2PACX-1vTe2xv8DuQALVpmmzeXraIFFXd4rv4jSefxsAy2OvapY2Zv91RazrZfISSczhyyHA/pub?output=csv')"
   ]
  },
  {
   "cell_type": "code",
   "execution_count": 6,
   "metadata": {},
   "outputs": [
    {
     "name": "stdout",
     "output_type": "stream",
     "text": [
      "Index(['Year', 'Doy', 'Calendar_date'], dtype='object')\n",
      "Index(['Year', '3_yr_temp_avg', '16_yr_temp_avg', '22_yr_temp_avg', 'obs_temp',\n",
      "       'urban_effect', 'upper_ci', 'lower_ci'],\n",
      "      dtype='object')\n"
     ]
    }
   ],
   "source": [
    "# finding common column name for merge\n",
    "\n",
    "print(blooms_raw.columns)\n",
    "print(temps_raw.columns)"
   ]
  },
  {
   "cell_type": "code",
   "execution_count": 7,
   "metadata": {},
   "outputs": [
    {
     "data": {
      "text/plain": [
       "(1217, 10)"
      ]
     },
     "execution_count": 7,
     "metadata": {},
     "output_type": "execute_result"
    }
   ],
   "source": [
    "# merge datasets on year\n",
    "\n",
    "df = blooms_raw.merge(temps_raw,\n",
    "                            how='left',\n",
    "                            left_on='Year',\n",
    "                            right_on='Year')\n",
    "\n",
    "# preliminary count of rows and columns\n",
    "\n",
    "df.shape"
   ]
  },
  {
   "cell_type": "code",
   "execution_count": 63,
   "metadata": {},
   "outputs": [
    {
     "name": "stdout",
     "output_type": "stream",
     "text": [
      "Count of missing values: 4575\n"
     ]
    },
    {
     "data": {
      "text/plain": [
       "Year                 0\n",
       "Doy                432\n",
       "Calendar_date      432\n",
       "3_yr_temp_avg      131\n",
       "16_yr_temp_avg     436\n",
       "22_yr_temp_avg     625\n",
       "obs_temp          1122\n",
       "urban_effect      1135\n",
       "upper_ci           131\n",
       "lower_ci           131\n",
       "dtype: int64"
      ]
     },
     "execution_count": 63,
     "metadata": {},
     "output_type": "execute_result"
    }
   ],
   "source": [
    "# check for missing  values\n",
    "\n",
    "count_df = df.isna().sum().sum()\n",
    "print('Count of missing values: ' + str(count_df))\n",
    "\n",
    "# number of missing values by column\n",
    "\n",
    "df.isna().sum()"
   ]
  },
  {
   "cell_type": "code",
   "execution_count": 8,
   "metadata": {},
   "outputs": [
    {
     "name": "stdout",
     "output_type": "stream",
     "text": [
      "Count of missing values: 681\n"
     ]
    },
    {
     "data": {
      "text/plain": [
       "Year               0\n",
       "Doy                0\n",
       "Calendar_date      0\n",
       "3_yr_temp_avg      0\n",
       "urban_effect     681\n",
       "upper_ci           0\n",
       "lower_ci           0\n",
       "dtype: int64"
      ]
     },
     "execution_count": 8,
     "metadata": {},
     "output_type": "execute_result"
    }
   ],
   "source": [
    "# drop rows with missing values in calendar_date and doy\n",
    "# drop 16 year and 22 yr average due to high number of missing values\n",
    "# confirm some rows were dropped\n",
    "\n",
    "df = df.dropna(subset=['Doy', 'Calendar_date', '3_yr_temp_avg'])\n",
    "df = df.drop(columns=['16_yr_temp_avg', '22_yr_temp_avg', 'obs_temp'])\n",
    "count_dfs = df.isna().sum().sum()\n",
    "print('Count of missing values: ' + str(count_dfs))\n",
    "df.shape\n",
    "\n",
    "# confirmation of cleaned rows and columns\n",
    "df.isna().sum()"
   ]
  },
  {
   "cell_type": "code",
   "execution_count": 9,
   "metadata": {},
   "outputs": [
    {
     "data": {
      "text/html": [
       "<div>\n",
       "<style scoped>\n",
       "    .dataframe tbody tr th:only-of-type {\n",
       "        vertical-align: middle;\n",
       "    }\n",
       "\n",
       "    .dataframe tbody tr th {\n",
       "        vertical-align: top;\n",
       "    }\n",
       "\n",
       "    .dataframe thead th {\n",
       "        text-align: right;\n",
       "    }\n",
       "</style>\n",
       "<table border=\"1\" class=\"dataframe\">\n",
       "  <thead>\n",
       "    <tr style=\"text-align: right;\">\n",
       "      <th></th>\n",
       "      <th>Year</th>\n",
       "      <th>Doy</th>\n",
       "      <th>Calendar_date</th>\n",
       "      <th>urban_effect</th>\n",
       "      <th>temp_fahrenheit</th>\n",
       "      <th>upper_ci_f</th>\n",
       "      <th>lower_ci_f</th>\n",
       "    </tr>\n",
       "  </thead>\n",
       "  <tbody>\n",
       "    <tr>\n",
       "      <th>52</th>\n",
       "      <td>853</td>\n",
       "      <td>104.0</td>\n",
       "      <td>14-Apr</td>\n",
       "      <td>NaN</td>\n",
       "      <td>42.512</td>\n",
       "      <td>49.964</td>\n",
       "      <td>35.060</td>\n",
       "    </tr>\n",
       "    <tr>\n",
       "      <th>63</th>\n",
       "      <td>864</td>\n",
       "      <td>100.0</td>\n",
       "      <td>9-Apr</td>\n",
       "      <td>NaN</td>\n",
       "      <td>44.834</td>\n",
       "      <td>52.358</td>\n",
       "      <td>37.310</td>\n",
       "    </tr>\n",
       "    <tr>\n",
       "      <th>65</th>\n",
       "      <td>866</td>\n",
       "      <td>106.0</td>\n",
       "      <td>16-Apr</td>\n",
       "      <td>NaN</td>\n",
       "      <td>45.284</td>\n",
       "      <td>53.780</td>\n",
       "      <td>36.788</td>\n",
       "    </tr>\n",
       "    <tr>\n",
       "      <th>90</th>\n",
       "      <td>891</td>\n",
       "      <td>109.0</td>\n",
       "      <td>19-Apr</td>\n",
       "      <td>NaN</td>\n",
       "      <td>42.080</td>\n",
       "      <td>44.690</td>\n",
       "      <td>39.470</td>\n",
       "    </tr>\n",
       "    <tr>\n",
       "      <th>91</th>\n",
       "      <td>892</td>\n",
       "      <td>108.0</td>\n",
       "      <td>17-Apr</td>\n",
       "      <td>NaN</td>\n",
       "      <td>42.278</td>\n",
       "      <td>44.600</td>\n",
       "      <td>39.956</td>\n",
       "    </tr>\n",
       "  </tbody>\n",
       "</table>\n",
       "</div>"
      ],
      "text/plain": [
       "   Year    Doy Calendar_date  urban_effect  temp_fahrenheit  upper_ci_f  \\\n",
       "52  853  104.0        14-Apr           NaN           42.512      49.964   \n",
       "63  864  100.0         9-Apr           NaN           44.834      52.358   \n",
       "65  866  106.0        16-Apr           NaN           45.284      53.780   \n",
       "90  891  109.0        19-Apr           NaN           42.080      44.690   \n",
       "91  892  108.0        17-Apr           NaN           42.278      44.600   \n",
       "\n",
       "    lower_ci_f  \n",
       "52      35.060  \n",
       "63      37.310  \n",
       "65      36.788  \n",
       "90      39.470  \n",
       "91      39.956  "
      ]
     },
     "execution_count": 9,
     "metadata": {},
     "output_type": "execute_result"
    }
   ],
   "source": [
    "# convert from celsius to fahrenheit\n",
    "# drop celsuis columns\n",
    "\n",
    "df = df.assign(temp_fahrenheit = lambda x: (9/5)*x['3_yr_temp_avg']+32, upper_ci_f =lambda x: (9/5)*x['upper_ci']+32, lower_ci_f =lambda x: (9/5)*x['lower_ci']+32)\n",
    "df = df.drop(columns=['3_yr_temp_avg', 'upper_ci', 'lower_ci'])\n",
    "\n",
    "# confirmation that celsius columns were dropped and fahrenheit columns were added\n",
    "df.head()"
   ]
  },
  {
   "cell_type": "code",
   "execution_count": 10,
   "metadata": {},
   "outputs": [
    {
     "data": {
      "text/plain": [
       "0.25    42.044\n",
       "0.50    42.890\n",
       "0.75    43.520\n",
       "Name: temp_fahrenheit, dtype: float64"
      ]
     },
     "execution_count": 10,
     "metadata": {},
     "output_type": "execute_result"
    }
   ],
   "source": [
    "# finding quantiles\n",
    "df.temp_fahrenheit.quantile([0.25,0.5, 0.75])"
   ]
  },
  {
   "cell_type": "code",
   "execution_count": 11,
   "metadata": {},
   "outputs": [
    {
     "data": {
      "text/html": [
       "<div>\n",
       "<style scoped>\n",
       "    .dataframe tbody tr th:only-of-type {\n",
       "        vertical-align: middle;\n",
       "    }\n",
       "\n",
       "    .dataframe tbody tr th {\n",
       "        vertical-align: top;\n",
       "    }\n",
       "\n",
       "    .dataframe thead th {\n",
       "        text-align: right;\n",
       "    }\n",
       "</style>\n",
       "<table border=\"1\" class=\"dataframe\">\n",
       "  <thead>\n",
       "    <tr style=\"text-align: right;\">\n",
       "      <th></th>\n",
       "      <th>Year</th>\n",
       "      <th>Doy</th>\n",
       "      <th>Calendar_date</th>\n",
       "      <th>urban_effect</th>\n",
       "      <th>temp_fahrenheit</th>\n",
       "      <th>upper_ci_f</th>\n",
       "      <th>lower_ci_f</th>\n",
       "      <th>temp_cat</th>\n",
       "    </tr>\n",
       "  </thead>\n",
       "  <tbody>\n",
       "    <tr>\n",
       "      <th>52</th>\n",
       "      <td>853</td>\n",
       "      <td>104.0</td>\n",
       "      <td>14-Apr</td>\n",
       "      <td>NaN</td>\n",
       "      <td>42.512</td>\n",
       "      <td>49.964</td>\n",
       "      <td>35.060</td>\n",
       "      <td>Medium</td>\n",
       "    </tr>\n",
       "    <tr>\n",
       "      <th>63</th>\n",
       "      <td>864</td>\n",
       "      <td>100.0</td>\n",
       "      <td>9-Apr</td>\n",
       "      <td>NaN</td>\n",
       "      <td>44.834</td>\n",
       "      <td>52.358</td>\n",
       "      <td>37.310</td>\n",
       "      <td>High</td>\n",
       "    </tr>\n",
       "    <tr>\n",
       "      <th>65</th>\n",
       "      <td>866</td>\n",
       "      <td>106.0</td>\n",
       "      <td>16-Apr</td>\n",
       "      <td>NaN</td>\n",
       "      <td>45.284</td>\n",
       "      <td>53.780</td>\n",
       "      <td>36.788</td>\n",
       "      <td>High</td>\n",
       "    </tr>\n",
       "    <tr>\n",
       "      <th>90</th>\n",
       "      <td>891</td>\n",
       "      <td>109.0</td>\n",
       "      <td>19-Apr</td>\n",
       "      <td>NaN</td>\n",
       "      <td>42.080</td>\n",
       "      <td>44.690</td>\n",
       "      <td>39.470</td>\n",
       "      <td>Medium</td>\n",
       "    </tr>\n",
       "    <tr>\n",
       "      <th>91</th>\n",
       "      <td>892</td>\n",
       "      <td>108.0</td>\n",
       "      <td>17-Apr</td>\n",
       "      <td>NaN</td>\n",
       "      <td>42.278</td>\n",
       "      <td>44.600</td>\n",
       "      <td>39.956</td>\n",
       "      <td>Medium</td>\n",
       "    </tr>\n",
       "  </tbody>\n",
       "</table>\n",
       "</div>"
      ],
      "text/plain": [
       "   Year    Doy Calendar_date  urban_effect  temp_fahrenheit  upper_ci_f  \\\n",
       "52  853  104.0        14-Apr           NaN           42.512      49.964   \n",
       "63  864  100.0         9-Apr           NaN           44.834      52.358   \n",
       "65  866  106.0        16-Apr           NaN           45.284      53.780   \n",
       "90  891  109.0        19-Apr           NaN           42.080      44.690   \n",
       "91  892  108.0        17-Apr           NaN           42.278      44.600   \n",
       "\n",
       "    lower_ci_f temp_cat  \n",
       "52      35.060   Medium  \n",
       "63      37.310     High  \n",
       "65      36.788     High  \n",
       "90      39.470   Medium  \n",
       "91      39.956   Medium  "
      ]
     },
     "execution_count": 11,
     "metadata": {},
     "output_type": "execute_result"
    }
   ],
   "source": [
    "# recode temperature into categories for temp: high, middle, low\n",
    "# high = top 25%\n",
    "# medium = middle 50%\n",
    "# low = bottom 25%\n",
    "\n",
    "df = (df.assign(temp_cat = lambda x: pd.cut(x['temp_fahrenheit'],\n",
    "bins=[0, 42.045, 42.891, 100],\n",
    "labels=[\"Low\", \"Medium\", \"High\"])))\n",
    "df.head()"
   ]
  },
  {
   "cell_type": "code",
   "execution_count": 13,
   "metadata": {},
   "outputs": [],
   "source": [
    "# export final dataset\n",
    "df.to_excel(r'C:/Users/britt/Documents/Python/sakura/sakura_blooms_kyoto_japan/sakura.xlsx', index = False)"
   ]
  }
 ],
 "metadata": {
  "kernelspec": {
   "display_name": "Python 3.10.1 64-bit",
   "language": "python",
   "name": "python3"
  },
  "language_info": {
   "codemirror_mode": {
    "name": "ipython",
    "version": 3
   },
   "file_extension": ".py",
   "mimetype": "text/x-python",
   "name": "python",
   "nbconvert_exporter": "python",
   "pygments_lexer": "ipython3",
   "version": "3.10.1"
  },
  "orig_nbformat": 4,
  "vscode": {
   "interpreter": {
    "hash": "bac4e17d0ad652fe572f7303b15392f2c4cb3e88fc6e44da7a2e494303c18aa2"
   }
  }
 },
 "nbformat": 4,
 "nbformat_minor": 2
}
